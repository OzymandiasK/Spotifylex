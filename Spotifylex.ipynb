{
 "cells": [
  {
   "cell_type": "code",
   "execution_count": 1,
   "metadata": {},
   "outputs": [],
   "source": [
    "import os\n",
    "import json\n",
    "import pandas as pd\n",
    "import numpy as np"
   ]
  },
  {
   "cell_type": "markdown",
   "metadata": {},
   "source": [
    "## Import the spotify data from the JSON file\n",
    "\n",
    "__[Interesting discussion about the difference between json.load and json.loads](https://stackoverflow.com/questions/39719689/what-is-the-difference-between-json-load-and-json-loads-functions)__"
   ]
  },
  {
   "cell_type": "code",
   "execution_count": 2,
   "metadata": {},
   "outputs": [],
   "source": [
    "#Initially, didn't know how to iterate through the files so did it with only one.\n",
    "\n",
    "#with open(\"MyData/StreamingHistory1.json\") as json_file:\n",
    "    #streamingHistory1 = json.load(json_file)"
   ]
  },
  {
   "cell_type": "code",
   "execution_count": 3,
   "metadata": {},
   "outputs": [],
   "source": [
    "#Trying to open the two streaming history files at the same time and add them to the same list, meaning loading the first one then adding the second one.\n",
    "#They should have the same structure so it should be possible\n",
    "\n",
    "#First, we initiate an empty list\n",
    "streamingHistory_list = []\n",
    "#we specify the absolute path where we want to look at our data\n",
    "json_files_location = '/Users/kogimandias/DataScience/Spotifylex/MyData'\n",
    "#we iterate through our files in that directory, we need the os library for that\n",
    "for json_file in os.listdir(json_files_location):\n",
    "    #We don't want to check all our files so we restrict the search to the streaminghistory files\n",
    "    if 'StreamingHistory' in json_file:\n",
    "        #we use two important statement here. \n",
    "        #\"With\" handles exceptions by ensuring that each file that we iterate through is closed.\n",
    "        #\"Open\" opens a file and returns a file object so that we can manipulate it \n",
    "        with open(f\"MyData/{json_file}\") as f:\n",
    "            #the load function returns a list, we store it and add it to our initially empty list        \n",
    "            streamingHistory = json.load(f)\n",
    "            streamingHistory_list.append(streamingHistory)"
   ]
  },
  {
   "cell_type": "code",
   "execution_count": 4,
   "metadata": {},
   "outputs": [
    {
     "data": {
      "text/plain": [
       "'/Users/kogimandias/DataScience/Spotifylex'"
      ]
     },
     "execution_count": 4,
     "metadata": {},
     "output_type": "execute_result"
    }
   ],
   "source": [
    "os.getcwd()"
   ]
  },
  {
   "cell_type": "markdown",
   "metadata": {},
   "source": [
    "## Working with DataFrames\n",
    "\n",
    "We have a dictionnary but we need to analyze the data and in order to do so, let's transform it to a dictionnary"
   ]
  },
  {
   "cell_type": "code",
   "execution_count": 5,
   "metadata": {},
   "outputs": [],
   "source": [
    "streamingHistory = pd.DataFrame.from_dict(streamingHistory)"
   ]
  },
  {
   "cell_type": "code",
   "execution_count": 6,
   "metadata": {},
   "outputs": [
    {
     "data": {
      "text/plain": [
       "endTime       object\n",
       "artistName    object\n",
       "trackName     object\n",
       "msPlayed       int64\n",
       "dtype: object"
      ]
     },
     "execution_count": 6,
     "metadata": {},
     "output_type": "execute_result"
    }
   ],
   "source": [
    "streamingHistory.dtypes"
   ]
  },
  {
   "cell_type": "markdown",
   "metadata": {},
   "source": [
    "Three of the four features are of type of object but with domain knowledge, we know that *trackName* and *artistName* should be **strings** while *endTime* should be **dateTime**"
   ]
  },
  {
   "cell_type": "code",
   "execution_count": 8,
   "metadata": {},
   "outputs": [],
   "source": [
    "streamingHistory['artistName']=streamingHistory['artistName'].astype('string')\n",
    "streamingHistory['trackName']=streamingHistory['trackName'].astype('string')\n",
    "streamingHistory['endTime']=pd.to_datetime(streamingHistory.endTime)\n"
   ]
  },
  {
   "cell_type": "markdown",
   "metadata": {},
   "source": [
    "# Exploratory Data Analysis"
   ]
  },
  {
   "cell_type": "code",
   "execution_count": null,
   "metadata": {},
   "outputs": [],
   "source": []
  }
 ],
 "metadata": {
  "interpreter": {
   "hash": "6a532158365df33c0b5f118110dc69bd27a6f819ef3aa51d42e9bf47619114f2"
  },
  "kernelspec": {
   "display_name": "Python 3.9.1 64-bit ('spotenv': conda)",
   "name": "python3"
  },
  "language_info": {
   "codemirror_mode": {
    "name": "ipython",
    "version": 3
   },
   "file_extension": ".py",
   "mimetype": "text/x-python",
   "name": "python",
   "nbconvert_exporter": "python",
   "pygments_lexer": "ipython3",
   "version": "3.9.1"
  },
  "orig_nbformat": 4
 },
 "nbformat": 4,
 "nbformat_minor": 2
}
