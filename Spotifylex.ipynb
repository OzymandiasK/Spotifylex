{
 "cells": [
  {
   "cell_type": "code",
   "execution_count": 5,
   "metadata": {},
   "outputs": [],
   "source": [
    "import spotipy"
   ]
  },
  {
   "cell_type": "code",
   "execution_count": null,
   "metadata": {},
   "outputs": [],
   "source": [
    "client_id = '32f91edad145476b8523886c236a9182'\n",
    "client_secret = '56cf09fabe454793bb50a570d10f116d'"
   ]
  },
  {
   "cell_type": "code",
   "execution_count": null,
   "metadata": {},
   "outputs": [],
   "source": [
    "# do a lookup for a token, for future requests."
   ]
  }
 ],
 "metadata": {
  "interpreter": {
   "hash": "6a532158365df33c0b5f118110dc69bd27a6f819ef3aa51d42e9bf47619114f2"
  },
  "kernelspec": {
   "display_name": "Python 3.9.1 64-bit ('spotenv': conda)",
   "name": "python3"
  },
  "language_info": {
   "codemirror_mode": {
    "name": "ipython",
    "version": 3
   },
   "file_extension": ".py",
   "mimetype": "text/x-python",
   "name": "python",
   "nbconvert_exporter": "python",
   "pygments_lexer": "ipython3",
   "version": "3.9.1"
  },
  "orig_nbformat": 4
 },
 "nbformat": 4,
 "nbformat_minor": 2
}
